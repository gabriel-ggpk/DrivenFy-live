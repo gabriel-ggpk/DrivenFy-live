{
  "nbformat": 4,
  "nbformat_minor": 0,
  "metadata": {
    "colab": {
      "provenance": [],
      "authorship_tag": "ABX9TyN305DImeq2xFakTzrpSXeU",
      "include_colab_link": true
    },
    "kernelspec": {
      "name": "python3",
      "display_name": "Python 3"
    },
    "language_info": {
      "name": "python"
    }
  },
  "cells": [
    {
      "cell_type": "markdown",
      "metadata": {
        "id": "view-in-github",
        "colab_type": "text"
      },
      "source": [
        "<a href=\"https://colab.research.google.com/github/gabriel-ggpk/DrivenFy-live/blob/master/Projeto_Redes.ipynb\" target=\"_parent\"><img src=\"https://colab.research.google.com/assets/colab-badge.svg\" alt=\"Open In Colab\"/></a>"
      ]
    },
    {
      "cell_type": "code",
      "source": [
        "from google.colab import drive \n",
        "drive.mount('/content/gdrive')"
      ],
      "metadata": {
        "colab": {
          "base_uri": "https://localhost:8080/"
        },
        "id": "t1tnP7IpkK-Z",
        "outputId": "61efb0e8-aa66-40a7-bd87-986e1bf3fe0a"
      },
      "execution_count": 6,
      "outputs": [
        {
          "output_type": "stream",
          "name": "stdout",
          "text": [
            "Mounted at /content/gdrive\n"
          ]
        }
      ]
    },
    {
      "cell_type": "code",
      "source": [
        "!pip install emoji"
      ],
      "metadata": {
        "colab": {
          "base_uri": "https://localhost:8080/"
        },
        "id": "usFegMsc0E3H",
        "outputId": "c77196f8-33d1-4dcc-e25d-d366467558c4"
      },
      "execution_count": 1,
      "outputs": [
        {
          "output_type": "stream",
          "name": "stdout",
          "text": [
            "Looking in indexes: https://pypi.org/simple, https://us-python.pkg.dev/colab-wheels/public/simple/\n",
            "Collecting emoji\n",
            "  Downloading emoji-2.2.0.tar.gz (240 kB)\n",
            "\u001b[2K     \u001b[90m━━━━━━━━━━━━━━━━━━━━━━━━━━━━━━━━━━━━━━\u001b[0m \u001b[32m240.9/240.9 KB\u001b[0m \u001b[31m15.5 MB/s\u001b[0m eta \u001b[36m0:00:00\u001b[0m\n",
            "\u001b[?25h  Preparing metadata (setup.py) ... \u001b[?25l\u001b[?25hdone\n",
            "Building wheels for collected packages: emoji\n",
            "  Building wheel for emoji (setup.py) ... \u001b[?25l\u001b[?25hdone\n",
            "  Created wheel for emoji: filename=emoji-2.2.0-py3-none-any.whl size=234926 sha256=85b471e737c87f2152bd2b71788a192de04c48c000932d221939d491979bc4c8\n",
            "  Stored in directory: /root/.cache/pip/wheels/9a/b8/0f/f580817231cbf59f6ade9fd132ff60ada1de9f7dc85521f857\n",
            "Successfully built emoji\n",
            "Installing collected packages: emoji\n",
            "Successfully installed emoji-2.2.0\n"
          ]
        }
      ]
    },
    {
      "cell_type": "code",
      "source": [
        "!pip install keras"
      ],
      "metadata": {
        "colab": {
          "base_uri": "https://localhost:8080/"
        },
        "id": "t-B9v5j6bowX",
        "outputId": "30a01ba5-ac2e-4cd5-8a99-017a3d4d4f4f"
      },
      "execution_count": 2,
      "outputs": [
        {
          "output_type": "stream",
          "name": "stdout",
          "text": [
            "Looking in indexes: https://pypi.org/simple, https://us-python.pkg.dev/colab-wheels/public/simple/\n",
            "Requirement already satisfied: keras in /usr/local/lib/python3.9/dist-packages (2.11.0)\n"
          ]
        }
      ]
    },
    {
      "cell_type": "code",
      "source": [
        "import pandas as pd\n",
        "\n",
        "import re\n",
        "import pickle\n",
        "import emoji\n",
        "import regex as re\n",
        "from sklearn.model_selection import train_test_split"
      ],
      "metadata": {
        "id": "8Lolqo7ArNxM"
      },
      "execution_count": 3,
      "outputs": []
    },
    {
      "cell_type": "code",
      "source": [
        "def preProcess(text):\n",
        "  text = text.lower() # convert to lowercase\n",
        "  text = re.sub(r'[^a-zA-Z0-9\\s]', '', text) # remove punctuation and special characters\n",
        "  text = re.sub(r'\\s+', ' ', text) # remove extra whitespace\n",
        "  text = re.sub(r'https?://\\S+', '', text) # remove URLs\n",
        "  text = re.sub(r\"#\", \"\", text)\n",
        "  text = emoji.demojize(text)\n",
        "  return text"
      ],
      "metadata": {
        "id": "6sZZdcKmy4tm"
      },
      "execution_count": 4,
      "outputs": []
    },
    {
      "cell_type": "code",
      "execution_count": 7,
      "metadata": {
        "id": "CirHDxOJhTCi"
      },
      "outputs": [],
      "source": [
        "tweets = pd.read_csv(\"/content/gdrive/MyDrive/ColabNotebooks/datasets/tweets.csv\")\n",
        "tweets['text'] = tweets['text'].apply(preProcess)\n",
        "X = tweets['text']\n",
        "y = tweets['target']\n",
        "vocab_size = 15000 #28000\n",
        "embedding_dim = 100 #3000\n",
        "max_length = 280\n",
        "X_train, X_test, y_train, y_test = train_test_split(X, y, test_size=0.3, random_state=42)\n"
      ]
    },
    {
      "cell_type": "code",
      "source": [
        "from keras.preprocessing.text import Tokenizer\n",
        "from keras.utils import pad_sequences\n",
        "\n",
        "# Create a tokenizer object\n",
        "tokenizer = Tokenizer(num_words=vocab_size)\n",
        "\n",
        "# Fit the tokenizer on the training data\n",
        "tokenizer.fit_on_texts(X_train)\n",
        "# Convert the training and testing data to sequences of token IDs\n",
        "train_sequences = tokenizer.texts_to_sequences(X_train)\n",
        "test_sequences = tokenizer.texts_to_sequences(X_test)\n",
        "\n",
        "# Pad the sequences to a fixed length\n",
        "train_padded = pad_sequences(train_sequences, maxlen=max_length)\n",
        "test_padded = pad_sequences(test_sequences, maxlen=max_length)"
      ],
      "metadata": {
        "id": "IiA3xHMLzi4f"
      },
      "execution_count": 8,
      "outputs": []
    },
    {
      "cell_type": "code",
      "source": [
        "from keras.models import Sequential\n",
        "from keras.layers import Dense, Embedding, SimpleRNN\n",
        "import matplotlib.pyplot as plt\n",
        "\n",
        "# Using a simpleRNN initially\n",
        "simpleModel = Sequential()\n",
        "simpleModel.add(Embedding(input_dim=vocab_size, output_dim=embedding_dim, input_length=max_length))\n",
        "simpleModel.add(SimpleRNN(units=16))\n",
        "simpleModel.add(Dense(units=1, activation='sigmoid'))\n",
        "\n",
        "# Compile the simpleModel\n",
        "simpleModel.compile(loss='binary_crossentropy', optimizer='adam', metrics=['accuracy'])\n",
        "\n",
        "# Train the simpleModel\n",
        "history = simpleModel.fit(train_padded, y_train, epochs=10, batch_size=2048, validation_data=(test_padded, y_test))\n",
        "plt.plot(history.history['accuracy'])\n",
        "plt.plot(history.history['val_accuracy'])\n",
        "plt.title('simpleModel accuracy')\n",
        "plt.ylabel('accuracy')\n",
        "plt.xlabel('Epoch')\n",
        "plt.legend(['Train', 'Validation'], loc='upper right')\n",
        "plt.show()"
      ],
      "metadata": {
        "colab": {
          "base_uri": "https://localhost:8080/",
          "height": 642
        },
        "id": "3BwwhIOcwFDJ",
        "outputId": "716f6beb-2995-439f-8624-2d629997fc74"
      },
      "execution_count": null,
      "outputs": [
        {
          "output_type": "stream",
          "name": "stdout",
          "text": [
            "Epoch 1/10\n",
            "4/4 [==============================] - 9s 2s/step - loss: 0.6880 - accuracy: 0.5512 - val_loss: 0.6260 - val_accuracy: 0.7778\n",
            "Epoch 2/10\n",
            "4/4 [==============================] - 5s 1s/step - loss: 0.5869 - accuracy: 0.8343 - val_loss: 0.5993 - val_accuracy: 0.8238\n",
            "Epoch 3/10\n",
            "4/4 [==============================] - 7s 2s/step - loss: 0.5380 - accuracy: 0.8500 - val_loss: 0.5692 - val_accuracy: 0.8288\n",
            "Epoch 4/10\n",
            "4/4 [==============================] - 8s 2s/step - loss: 0.4962 - accuracy: 0.8403 - val_loss: 0.5423 - val_accuracy: 0.8279\n",
            "Epoch 5/10\n",
            "4/4 [==============================] - 7s 2s/step - loss: 0.4614 - accuracy: 0.8409 - val_loss: 0.5234 - val_accuracy: 0.8297\n",
            "Epoch 6/10\n",
            "4/4 [==============================] - 6s 2s/step - loss: 0.4277 - accuracy: 0.8539 - val_loss: 0.5110 - val_accuracy: 0.8326\n",
            "Epoch 7/10\n",
            "4/4 [==============================] - 6s 2s/step - loss: 0.3905 - accuracy: 0.8868 - val_loss: 0.5049 - val_accuracy: 0.8408\n",
            "Epoch 8/10\n",
            "4/4 [==============================] - 7s 2s/step - loss: 0.3474 - accuracy: 0.9279 - val_loss: 0.4697 - val_accuracy: 0.8361\n",
            "Epoch 9/10\n",
            "4/4 [==============================] - 6s 2s/step - loss: 0.3011 - accuracy: 0.9065 - val_loss: 0.4576 - val_accuracy: 0.8355\n",
            "Epoch 10/10\n",
            "4/4 [==============================] - 7s 2s/step - loss: 0.2813 - accuracy: 0.9350 - val_loss: 0.5276 - val_accuracy: 0.7942\n"
          ]
        },
        {
          "output_type": "display_data",
          "data": {
            "text/plain": [
              "<Figure size 432x288 with 1 Axes>"
            ],
            "image/png": "[encoded data removed]"
          },
          "metadata": {
            "needs_background": "light"
          }
        }
      ]
    },
    {
      "cell_type": "code",
      "source": [
        "\n",
        "from keras.models import Sequential\n",
        "from keras.layers import Dense, Embedding, LSTM\n",
        "import matplotlib.pyplot as plt\n",
        "\n",
        "# Using a lstm\n",
        "lstm = Sequential()\n",
        "lstm.add(Embedding(input_dim=vocab_size, output_dim=embedding_dim, input_length=max_length))\n",
        "lstm.add(LSTM(units=16))\n",
        "lstm.add(Dense(units=1, activation='sigmoid'))\n",
        "\n",
        "# Compile the lstm\n",
        "lstm.compile(loss='binary_crossentropy', optimizer='adam', metrics=['accuracy'])\n",
        "\n",
        "# Train the lstm\n",
        "history = lstm.fit(train_padded, y_train, epochs=10, batch_size=128, validation_data=(test_padded, y_test))\n",
        "\n",
        "plt.plot(history.history['accuracy'])\n",
        "plt.plot(history.history['val_accuracy'])\n",
        "plt.title('lstm Accuracy')\n",
        "plt.ylabel('Accuracy')\n",
        "plt.xlabel('Epoch')\n",
        "plt.legend(['Train', 'Validation'], loc='upper right')\n",
        "plt.show()"
      ],
      "metadata": {
        "colab": {
          "base_uri": "https://localhost:8080/",
          "height": 664
        },
        "id": "UnB0Nclhc3Mv",
        "outputId": "4a6178c5-79b7-493a-9d62-45fbadc149c2"
      },
      "execution_count": 9,
      "outputs": [
        {
          "output_type": "stream",
          "name": "stdout",
          "text": [
            "Epoch 1/10\n",
            "63/63 [==============================] - 12s 149ms/step - loss: 0.5230 - accuracy: 0.7993 - val_loss: 0.3860 - val_accuracy: 0.8270\n",
            "Epoch 2/10\n",
            "63/63 [==============================] - 8s 125ms/step - loss: 0.2970 - accuracy: 0.8745 - val_loss: 0.2941 - val_accuracy: 0.8909\n",
            "Epoch 3/10\n",
            "63/63 [==============================] - 9s 141ms/step - loss: 0.1820 - accuracy: 0.9452 - val_loss: 0.2844 - val_accuracy: 0.8965\n",
            "Epoch 4/10\n",
            "63/63 [==============================] - 9s 142ms/step - loss: 0.1115 - accuracy: 0.9706 - val_loss: 0.2936 - val_accuracy: 0.9033\n",
            "Epoch 5/10\n",
            "63/63 [==============================] - 8s 126ms/step - loss: 0.0697 - accuracy: 0.9853 - val_loss: 0.3204 - val_accuracy: 0.8977\n",
            "Epoch 6/10\n",
            "63/63 [==============================] - 9s 144ms/step - loss: 0.0436 - accuracy: 0.9911 - val_loss: 0.3373 - val_accuracy: 0.8930\n",
            "Epoch 7/10\n",
            "63/63 [==============================] - 9s 145ms/step - loss: 0.0304 - accuracy: 0.9937 - val_loss: 0.3729 - val_accuracy: 0.8915\n",
            "Epoch 8/10\n",
            "63/63 [==============================] - 8s 132ms/step - loss: 0.0233 - accuracy: 0.9951 - val_loss: 0.3939 - val_accuracy: 0.8950\n",
            "Epoch 9/10\n",
            "63/63 [==============================] - 9s 142ms/step - loss: 0.0213 - accuracy: 0.9947 - val_loss: 0.4076 - val_accuracy: 0.8904\n",
            "Epoch 10/10\n",
            "63/63 [==============================] - 9s 147ms/step - loss: 0.0157 - accuracy: 0.9975 - val_loss: 0.4321 - val_accuracy: 0.8912\n"
          ]
        },
        {
          "output_type": "display_data",
          "data": {
            "text/plain": [
              "<Figure size 432x288 with 1 Axes>"
            ],
            "image/png": "[encoded data removed]"
          },
          "metadata": {
            "needs_background": "light"
          }
        }
      ]
    },
    {
      "cell_type": "code",
      "source": [
        "\n",
        "from keras.models import Sequential\n",
        "from keras.layers import Dense, Embedding, GRU\n",
        "import matplotlib.pyplot as plt\n",
        "\n",
        "# Using a GRU\n",
        "print(train_padded.shape)\n",
        "GRU = Sequential()\n",
        "GRU.add(Embedding(input_dim=vocab_size, output_dim=embedding_dim, input_length=max_length))\n",
        "GRU.add(GRU(units=16))\n",
        "GRU.add(Dense(units=1, activation='sigmoid'))\n",
        "\n",
        "# Compile the GRU\n",
        "GRU.compile(loss='binary_crossentropy', optimizer='adam', metrics=['accuracy'])\n",
        "\n",
        "# Train the GRU\n",
        "history = GRU.fit(train_padded, y_train, epochs=10, batch_size=128, validation_data=(test_padded, y_test))\n",
        "\n",
        "plt.plot(history.history['accuracy'])\n",
        "plt.plot(history.history['val_accuracy'])\n",
        "plt.title('GRU accuracy')\n",
        "plt.ylabel('Accuracy')\n",
        "plt.xlabel('Epoch')\n",
        "plt.legend(['Train', 'Validation'], loc='upper right')\n",
        "plt.show()"
      ],
      "metadata": {
        "colab": {
          "base_uri": "https://localhost:8080/",
          "height": 660
        },
        "id": "krumQzKFhdCD",
        "outputId": "f3dd97ef-17e9-448b-ed27-8342d5ff0e3e"
      },
      "execution_count": null,
      "outputs": [
        {
          "output_type": "stream",
          "name": "stdout",
          "text": [
            "(7959, 280)\n",
            "Epoch 1/10\n",
            "63/63 [==============================] - 18s 236ms/step - loss: 0.5442 - accuracy: 0.8014 - val_loss: 0.4123 - val_accuracy: 0.8244\n",
            "Epoch 2/10\n",
            "63/63 [==============================] - 14s 231ms/step - loss: 0.3362 - accuracy: 0.8491 - val_loss: 0.3289 - val_accuracy: 0.8663\n",
            "Epoch 3/10\n",
            "63/63 [==============================] - 15s 233ms/step - loss: 0.1793 - accuracy: 0.9339 - val_loss: 0.3201 - val_accuracy: 0.8775\n",
            "Epoch 4/10\n",
            "63/63 [==============================] - 15s 236ms/step - loss: 0.0951 - accuracy: 0.9685 - val_loss: 0.3460 - val_accuracy: 0.8757\n",
            "Epoch 5/10\n",
            "63/63 [==============================] - 17s 264ms/step - loss: 0.0550 - accuracy: 0.9854 - val_loss: 0.3952 - val_accuracy: 0.8830\n",
            "Epoch 6/10\n",
            "63/63 [==============================] - 15s 236ms/step - loss: 0.0331 - accuracy: 0.9910 - val_loss: 0.4356 - val_accuracy: 0.8739\n",
            "Epoch 7/10\n",
            "63/63 [==============================] - 15s 232ms/step - loss: 0.0227 - accuracy: 0.9950 - val_loss: 0.4846 - val_accuracy: 0.8763\n",
            "Epoch 8/10\n",
            "63/63 [==============================] - 15s 234ms/step - loss: 0.0177 - accuracy: 0.9964 - val_loss: 0.5227 - val_accuracy: 0.8824\n",
            "Epoch 9/10\n",
            "63/63 [==============================] - 14s 230ms/step - loss: 0.0105 - accuracy: 0.9979 - val_loss: 0.5412 - val_accuracy: 0.8725\n",
            "Epoch 10/10\n",
            "63/63 [==============================] - 14s 230ms/step - loss: 0.0081 - accuracy: 0.9980 - val_loss: 0.5638 - val_accuracy: 0.8760\n"
          ]
        },
        {
          "output_type": "display_data",
          "data": {
            "text/plain": [
              "<Figure size 432x288 with 1 Axes>"
            ],
            "image/png": "[encoded data removed]"
          },
          "metadata": {
            "needs_background": "light"
          }
        }
      ]
    }
  ]
}